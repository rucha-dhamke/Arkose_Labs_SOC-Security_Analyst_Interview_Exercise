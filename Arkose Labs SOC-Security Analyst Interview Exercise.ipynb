{
 "cells": [
  {
   "cell_type": "code",
   "execution_count": 0,
   "metadata": {
    "application/vnd.databricks.v1+cell": {
     "cellMetadata": {
      "byteLimit": 2048000,
      "rowLimit": 10000
     },
     "inputWidgets": {},
     "nuid": "8c97a447-b6f1-4bf7-8d2c-6786f42ac0e6",
     "showTitle": false,
     "tableResultSettingsMap": {},
     "title": ""
    }
   },
   "outputs": [],
   "source": [
    "# I have created a volume in Unity Catalog - /Volumes/workspace/default/interview_volume where I uploaded title_basics_2018.csv and title_ratings.csv\n",
    "\n",
    "#Here's the link to UC volume - https://dbc-3c5ac3a3-4279.cloud.databricks.com/explore/data/volumes/workspace/default/interview_volume?o=3125894731479284"
   ]
  },
  {
   "cell_type": "code",
   "execution_count": 0,
   "metadata": {
    "application/vnd.databricks.v1+cell": {
     "cellMetadata": {
      "byteLimit": 2048000,
      "rowLimit": 10000
     },
     "inputWidgets": {},
     "nuid": "419a48cb-e70f-4c2a-b98f-b0b1e3f505cf",
     "showTitle": false,
     "tableResultSettingsMap": {},
     "title": ""
    }
   },
   "outputs": [],
   "source": [
    "# Now we will read the 2018 basics file in basics_df dataframe by keeping .option as as true\n",
    "basics_df = spark.read.option(\"header\", True).csv(\"/Volumes/workspace/default/interview_volume/title_basics_2018.csv\")\n",
    "\n",
    "# Now we will read the ratings file in ratings_df daatframe by keeping .option as as true\n",
    "ratings_df = spark.read.option(\"header\", True).csv(\"/Volumes/workspace/default/interview_volume/title_ratings.csv\")\n"
   ]
  },
  {
   "cell_type": "markdown",
   "metadata": {
    "application/vnd.databricks.v1+cell": {
     "cellMetadata": {
      "byteLimit": 2048000,
      "rowLimit": 10000
     },
     "inputWidgets": {},
     "nuid": "e5a6877b-bf76-428b-b8b2-84b44300e8ef",
     "showTitle": false,
     "tableResultSettingsMap": {},
     "title": ""
    }
   },
   "source": [
    "According to the provided dataset, how many 2018 films were categorized as a Comedy?"
   ]
  },
  {
   "cell_type": "code",
   "execution_count": 0,
   "metadata": {
    "application/vnd.databricks.v1+cell": {
     "cellMetadata": {
      "byteLimit": 2048000,
      "rowLimit": 10000
     },
     "inputWidgets": {},
     "nuid": "d2243856-7a9e-4e19-b7c3-29e4e4df32a4",
     "showTitle": false,
     "tableResultSettingsMap": {},
     "title": ""
    }
   },
   "outputs": [
    {
     "output_type": "stream",
     "name": "stdout",
     "output_type": "stream",
     "text": [
      "Number of 2018 Comedy films: 2233\n"
     ]
    }
   ],
   "source": [
    "#import pyspark functions used for abive questions.\n",
    "from pyspark.sql.functions import split, explode, col\n",
    "\n",
    "# Create dataframe genred_df and add replace column 'genre; using withColumn by using Split genres and explode\n",
    "genres_df = basics_df.withColumn(\"genre\", explode(split(col(\"genres\"), \",\")))\n",
    "\n",
    "# Apply Filter for Comedy and count\n",
    "comedy_count = genres_df.filter(col(\"genre\") == \"Comedy\").count()\n",
    "\n",
    "print(f\"Number of 2018 Comedy films: {comedy_count}\")"
   ]
  },
  {
   "cell_type": "markdown",
   "metadata": {
    "application/vnd.databricks.v1+cell": {
     "cellMetadata": {
      "byteLimit": 2048000,
      "rowLimit": 10000
     },
     "inputWidgets": {},
     "nuid": "b34bd085-70dc-45c1-a6f9-1bd5ef9788f5",
     "showTitle": false,
     "tableResultSettingsMap": {},
     "title": ""
    }
   },
   "source": [
    "According to the provided dataset, how many 2018 films got a score of 8.0 or higher?  (Note that this will require joining the two datasets together)"
   ]
  },
  {
   "cell_type": "code",
   "execution_count": 0,
   "metadata": {
    "application/vnd.databricks.v1+cell": {
     "cellMetadata": {
      "byteLimit": 2048000,
      "rowLimit": 10000
     },
     "inputWidgets": {},
     "nuid": "edb11187-698a-45be-be44-7a266e6c68df",
     "showTitle": false,
     "tableResultSettingsMap": {},
     "title": ""
    }
   },
   "outputs": [
    {
     "output_type": "stream",
     "name": "stdout",
     "output_type": "stream",
     "text": [
      "Number of 2018 films with rating >= 8.0 is 780\n"
     ]
    }
   ],
   "source": [
    "# Join datasets basics_df and ratings_df on tconst\n",
    "joined_df = basics_df.join(ratings_df, on=\"tconst\")\n",
    "\n",
    "# Cast rating to float\n",
    "joined_df = joined_df.withColumn(\"averageRating\", col(\"averageRating\").cast(\"float\"))\n",
    "\n",
    "# Filter for rating ≥ 8.0\n",
    "high_rated_count = joined_df.filter(col(\"averageRating\") >= 8.0).count()\n",
    "\n",
    "print(f\"Number of 2018 films with rating >= 8.0 is {high_rated_count}\")"
   ]
  },
  {
   "cell_type": "markdown",
   "metadata": {
    "application/vnd.databricks.v1+cell": {
     "cellMetadata": {
      "byteLimit": 2048000,
      "rowLimit": 10000
     },
     "inputWidgets": {},
     "nuid": "9c2d4d45-6f9f-446b-a519-f80a8f1bc516",
     "showTitle": false,
     "tableResultSettingsMap": {},
     "title": ""
    }
   },
   "source": [
    "What was the best film of 2018?"
   ]
  },
  {
   "cell_type": "code",
   "execution_count": 0,
   "metadata": {
    "application/vnd.databricks.v1+cell": {
     "cellMetadata": {
      "byteLimit": 2048000,
      "rowLimit": 10000
     },
     "inputWidgets": {},
     "nuid": "dece35c1-fe70-4bfa-aca0-6d8c9a207e87",
     "showTitle": false,
     "tableResultSettingsMap": {},
     "title": ""
    }
   },
   "outputs": [
    {
     "output_type": "display_data",
     "data": {
      "text/html": [
       "<style scoped>\n",
       "  .table-result-container {\n",
       "    max-height: 300px;\n",
       "    overflow: auto;\n",
       "  }\n",
       "  table, th, td {\n",
       "    border: 1px solid black;\n",
       "    border-collapse: collapse;\n",
       "  }\n",
       "  th, td {\n",
       "    padding: 5px;\n",
       "  }\n",
       "  th {\n",
       "    text-align: left;\n",
       "  }\n",
       "</style><div class='table-result-container'><table class='table-result'><thead style='background-color: white'><tr><th>primaryTitle</th><th>averageRating</th><th>numVotes</th></tr></thead><tbody><tr><td>Dominion</td><td>9.2</td><td>1387</td></tr></tbody></table></div>"
      ]
     },
     "metadata": {
      "application/vnd.databricks.v1+output": {
       "addedWidgets": {},
       "aggData": [],
       "aggError": "",
       "aggOverflow": false,
       "aggSchema": [],
       "aggSeriesLimitReached": false,
       "aggType": "",
       "arguments": {},
       "columnCustomDisplayInfos": {},
       "data": [
        [
         "Dominion",
         9.2,
         1387
        ]
       ],
       "datasetInfos": [],
       "dbfsResultPath": null,
       "isJsonSchema": true,
       "metadata": {},
       "overflow": false,
       "plotOptions": {
        "customPlotOptions": {},
        "displayType": "table",
        "pivotAggregation": null,
        "pivotColumns": null,
        "xColumns": null,
        "yColumns": null
       },
       "removedWidgets": [],
       "schema": [
        {
         "metadata": "{}",
         "name": "primaryTitle",
         "type": "\"string\""
        },
        {
         "metadata": "{}",
         "name": "averageRating",
         "type": "\"float\""
        },
        {
         "metadata": "{}",
         "name": "numVotes",
         "type": "\"integer\""
        }
       ],
       "type": "table"
      }
     },
     "output_type": "display_data"
    }
   ],
   "source": [
    "from pyspark.sql.functions import desc\n",
    "\n",
    "# Use the above joined dataframe and Cast types\n",
    "joined_df = joined_df.withColumn(\"numVotes\", col(\"numVotes\").cast(\"int\"))\n",
    "\n",
    "# Filter popular and sort by ordering it by descending order and filtering column 'numVotes' > 1000, then select columns the topmost value using limit(1)\n",
    "top_film = (\n",
    "    joined_df.filter(col(\"numVotes\") > 1000)\n",
    "    .orderBy(desc(\"averageRating\"))\n",
    "    .select(\"primaryTitle\", \"averageRating\", \"numVotes\")\n",
    "    .limit(1)\n",
    ")\n",
    "\n",
    "top_film.display()"
   ]
  },
  {
   "cell_type": "markdown",
   "metadata": {
    "application/vnd.databricks.v1+cell": {
     "cellMetadata": {
      "byteLimit": 2048000,
      "rowLimit": 10000
     },
     "inputWidgets": {},
     "nuid": "ae428e51-37c8-4b42-b34d-8cb2d45eb6b9",
     "showTitle": false,
     "tableResultSettingsMap": {},
     "title": ""
    }
   },
   "source": [
    "Do audiences prefer longer films, or shorter films?  You may choose to simply outline your methodology to approach this problem."
   ]
  },
  {
   "cell_type": "code",
   "execution_count": 0,
   "metadata": {
    "application/vnd.databricks.v1+cell": {
     "cellMetadata": {
      "byteLimit": 2048000,
      "rowLimit": 10000
     },
     "inputWidgets": {},
     "nuid": "3570555a-95ea-4e64-8be9-23e6bea5c253",
     "showTitle": false,
     "tableResultSettingsMap": {},
     "title": ""
    }
   },
   "outputs": [
    {
     "output_type": "display_data",
     "data": {
      "text/html": [
       "<style scoped>\n",
       "  .table-result-container {\n",
       "    max-height: 300px;\n",
       "    overflow: auto;\n",
       "  }\n",
       "  table, th, td {\n",
       "    border: 1px solid black;\n",
       "    border-collapse: collapse;\n",
       "  }\n",
       "  th, td {\n",
       "    padding: 5px;\n",
       "  }\n",
       "  th {\n",
       "    text-align: left;\n",
       "  }\n",
       "</style><div class='table-result-container'><table class='table-result'><thead style='background-color: white'><tr><th>lengthCategory</th><th>avgRating</th><th>avgVotes</th></tr></thead><tbody><tr><td>Short</td><td>6.226473819157528</td><td>312.1570853167338</td></tr><tr><td>Medium</td><td>6.191717287968825</td><td>2821.146880176698</td></tr><tr><td>Long</td><td>6.533105019973293</td><td>8726.663242009132</td></tr></tbody></table></div>"
      ]
     },
     "metadata": {
      "application/vnd.databricks.v1+output": {
       "addedWidgets": {},
       "aggData": [],
       "aggError": "",
       "aggOverflow": false,
       "aggSchema": [],
       "aggSeriesLimitReached": false,
       "aggType": "",
       "arguments": {},
       "columnCustomDisplayInfos": {},
       "data": [
        [
         "Short",
         6.226473819157528,
         312.1570853167338
        ],
        [
         "Medium",
         6.191717287968825,
         2821.146880176698
        ],
        [
         "Long",
         6.533105019973293,
         8726.663242009132
        ]
       ],
       "datasetInfos": [],
       "dbfsResultPath": null,
       "isJsonSchema": true,
       "metadata": {},
       "overflow": false,
       "plotOptions": {
        "customPlotOptions": {},
        "displayType": "table",
        "pivotAggregation": null,
        "pivotColumns": null,
        "xColumns": null,
        "yColumns": null
       },
       "removedWidgets": [],
       "schema": [
        {
         "metadata": "{}",
         "name": "lengthCategory",
         "type": "\"string\""
        },
        {
         "metadata": "{}",
         "name": "avgRating",
         "type": "\"double\""
        },
        {
         "metadata": "{}",
         "name": "avgVotes",
         "type": "\"double\""
        }
       ],
       "type": "table"
      }
     },
     "output_type": "display_data"
    }
   ],
   "source": [
    "from pyspark.sql.functions import when, avg\n",
    "\n",
    "# Cast runtime to int\n",
    "joined_df = joined_df.withColumn(\"runtimeMinutes\", col(\"runtimeMinutes\").cast(\"int\"))\n",
    "\n",
    "# Categorize film length based on runtimeMinutes <90 as short , between 90 to 120 as medium and above 120 and long\n",
    "bucketed_df = joined_df.withColumn(\n",
    "    \"lengthCategory\",\n",
    "    when(col(\"runtimeMinutes\") < 90, \"Short\")\n",
    "    .when((col(\"runtimeMinutes\") >= 90) & (col(\"runtimeMinutes\") <= 120), \"Medium\")\n",
    "    .otherwise(\"Long\")\n",
    ")\n",
    "\n",
    "# Aggregate ratings and votes by category using groupBy and agg function\n",
    "preferences = bucketed_df.groupBy(\"lengthCategory\").agg(\n",
    "    avg(\"averageRating\").alias(\"avgRating\"),\n",
    "    avg(\"numVotes\").alias(\"avgVotes\")\n",
    ")\n",
    "\n",
    "preferences.display()"
   ]
  },
  {
   "cell_type": "code",
   "execution_count": 0,
   "metadata": {
    "application/vnd.databricks.v1+cell": {
     "cellMetadata": {
      "byteLimit": 2048000,
      "rowLimit": 10000
     },
     "inputWidgets": {},
     "nuid": "9646a683-4839-4739-be7d-da7ad1a8f780",
     "showTitle": false,
     "tableResultSettingsMap": {},
     "title": ""
    }
   },
   "outputs": [],
   "source": []
  }
 ],
 "metadata": {
  "application/vnd.databricks.v1+notebook": {
   "computePreferences": null,
   "dashboards": [
    {
     "elements": [],
     "globalVars": {},
     "guid": "",
     "layoutOption": {
      "grid": true,
      "stack": true
     },
     "nuid": "90514d27-89e9-412d-805c-dd8d9c9c3783",
     "origId": 6713253741194071,
     "title": "Untitled",
     "version": "DashboardViewV1",
     "width": 1024
    }
   ],
   "environmentMetadata": {
    "base_environment": "",
    "environment_version": "2"
   },
   "inputWidgetPreferences": null,
   "language": "python",
   "notebookMetadata": {
    "pythonIndentUnit": 4
   },
   "notebookName": "Arkose Labs SOC - Security Analyst Interview Exercise",
   "widgets": {}
  },
  "language_info": {
   "name": "python"
  }
 },
 "nbformat": 4,
 "nbformat_minor": 0
}